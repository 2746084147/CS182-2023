{
 "cells": [
  {
   "cell_type": "code",
   "execution_count": 1,
   "id": "f19fe7cf",
   "metadata": {},
   "outputs": [
    {
     "name": "stderr",
     "output_type": "stream",
     "text": [
      "c:\\Users\\Xunjing\\AppData\\Local\\Programs\\Python\\Python39\\lib\\site-packages\\scipy\\__init__.py:177: UserWarning: A NumPy version >=1.18.5 and <1.26.0 is required for this version of SciPy (detected version 1.26.3\n",
      "  warnings.warn(f\"A NumPy version >={np_minversion} and <{np_maxversion}\"\n"
     ]
    },
    {
     "name": "stdout",
     "output_type": "stream",
     "text": [
      "WARNING:tensorflow:From c:\\Users\\Xunjing\\AppData\\Local\\Programs\\Python\\Python39\\lib\\site-packages\\keras\\src\\losses.py:2976: The name tf.losses.sparse_softmax_cross_entropy is deprecated. Please use tf.compat.v1.losses.sparse_softmax_cross_entropy instead.\n",
      "\n",
      "WARNING:tensorflow:From C:\\Users\\Xunjing\\AppData\\Local\\Temp/ipykernel_25416/2791585894.py:4: The name tf.reset_default_graph is deprecated. Please use tf.compat.v1.reset_default_graph instead.\n",
      "\n"
     ]
    }
   ],
   "source": [
    "import sys\n",
    "import warnings\n",
    "import tensorflow as tf\n",
    "tf.compat.v1.reset_default_graph()\n",
    "import numpy as np\n",
    "import matplotlib.pyplot as plt\n",
    "import seaborn as sns\n",
    "import pandas as pd\n",
    "from sklearn.preprocessing import MinMaxScaler\n",
    "from datetime import datetime\n",
    "from datetime import timedelta\n",
    "from tqdm import tqdm\n",
    "sns.set()\n",
    "tf.compat.v1.random.set_random_seed(10086)\n"
   ]
  },
  {
   "cell_type": "code",
   "execution_count": null,
   "id": "3fa7f817",
   "metadata": {},
   "outputs": [
    {
     "data": {
      "text/html": [
       "<div>\n",
       "<style scoped>\n",
       "    .dataframe tbody tr th:only-of-type {\n",
       "        vertical-align: middle;\n",
       "    }\n",
       "\n",
       "    .dataframe tbody tr th {\n",
       "        vertical-align: top;\n",
       "    }\n",
       "\n",
       "    .dataframe thead th {\n",
       "        text-align: right;\n",
       "    }\n",
       "</style>\n",
       "<table border=\"1\" class=\"dataframe\">\n",
       "  <thead>\n",
       "    <tr style=\"text-align: right;\">\n",
       "      <th></th>\n",
       "      <th>Date</th>\n",
       "      <th>Open</th>\n",
       "      <th>High</th>\n",
       "      <th>Low</th>\n",
       "      <th>Close</th>\n",
       "      <th>Adj Close</th>\n",
       "      <th>Volume</th>\n",
       "    </tr>\n",
       "  </thead>\n",
       "  <tbody>\n",
       "    <tr>\n",
       "      <th>0</th>\n",
       "      <td>2016/11/2</td>\n",
       "      <td>778.200012</td>\n",
       "      <td>781.650024</td>\n",
       "      <td>763.450012</td>\n",
       "      <td>768.700012</td>\n",
       "      <td>768.700012</td>\n",
       "      <td>1872400</td>\n",
       "    </tr>\n",
       "    <tr>\n",
       "      <th>1</th>\n",
       "      <td>2016/11/3</td>\n",
       "      <td>767.250000</td>\n",
       "      <td>769.950012</td>\n",
       "      <td>759.030029</td>\n",
       "      <td>762.130005</td>\n",
       "      <td>762.130005</td>\n",
       "      <td>1943200</td>\n",
       "    </tr>\n",
       "    <tr>\n",
       "      <th>2</th>\n",
       "      <td>2016/11/4</td>\n",
       "      <td>750.659973</td>\n",
       "      <td>770.359985</td>\n",
       "      <td>750.560974</td>\n",
       "      <td>762.020020</td>\n",
       "      <td>762.020020</td>\n",
       "      <td>2134800</td>\n",
       "    </tr>\n",
       "    <tr>\n",
       "      <th>3</th>\n",
       "      <td>2016/11/7</td>\n",
       "      <td>774.500000</td>\n",
       "      <td>785.190002</td>\n",
       "      <td>772.549988</td>\n",
       "      <td>782.520020</td>\n",
       "      <td>782.520020</td>\n",
       "      <td>1585100</td>\n",
       "    </tr>\n",
       "    <tr>\n",
       "      <th>4</th>\n",
       "      <td>2016/11/8</td>\n",
       "      <td>783.400024</td>\n",
       "      <td>795.632996</td>\n",
       "      <td>780.190002</td>\n",
       "      <td>790.510010</td>\n",
       "      <td>790.510010</td>\n",
       "      <td>1350800</td>\n",
       "    </tr>\n",
       "  </tbody>\n",
       "</table>\n",
       "</div>"
      ],
      "text/plain": [
       "        Date        Open        High         Low       Close   Adj Close  \\\n",
       "0  2016/11/2  778.200012  781.650024  763.450012  768.700012  768.700012   \n",
       "1  2016/11/3  767.250000  769.950012  759.030029  762.130005  762.130005   \n",
       "2  2016/11/4  750.659973  770.359985  750.560974  762.020020  762.020020   \n",
       "3  2016/11/7  774.500000  785.190002  772.549988  782.520020  782.520020   \n",
       "4  2016/11/8  783.400024  795.632996  780.190002  790.510010  790.510010   \n",
       "\n",
       "    Volume  \n",
       "0  1872400  \n",
       "1  1943200  \n",
       "2  2134800  \n",
       "3  1585100  \n",
       "4  1350800  "
      ]
     },
     "execution_count": 2,
     "metadata": {},
     "output_type": "execute_result"
    }
   ],
   "source": [
    "df = pd.read_csv('.\\GOOG-year.csv')\n",
    "df.head()\n"
   ]
  },
  {
   "cell_type": "code",
   "execution_count": null,
   "id": "2f4f0dff",
   "metadata": {},
   "outputs": [
    {
     "data": {
      "text/html": [
       "<div>\n",
       "<style scoped>\n",
       "    .dataframe tbody tr th:only-of-type {\n",
       "        vertical-align: middle;\n",
       "    }\n",
       "\n",
       "    .dataframe tbody tr th {\n",
       "        vertical-align: top;\n",
       "    }\n",
       "\n",
       "    .dataframe thead th {\n",
       "        text-align: right;\n",
       "    }\n",
       "</style>\n",
       "<table border=\"1\" class=\"dataframe\">\n",
       "  <thead>\n",
       "    <tr style=\"text-align: right;\">\n",
       "      <th></th>\n",
       "      <th>0</th>\n",
       "    </tr>\n",
       "  </thead>\n",
       "  <tbody>\n",
       "    <tr>\n",
       "      <th>0</th>\n",
       "      <td>0.112708</td>\n",
       "    </tr>\n",
       "    <tr>\n",
       "      <th>1</th>\n",
       "      <td>0.090008</td>\n",
       "    </tr>\n",
       "    <tr>\n",
       "      <th>2</th>\n",
       "      <td>0.089628</td>\n",
       "    </tr>\n",
       "    <tr>\n",
       "      <th>3</th>\n",
       "      <td>0.160459</td>\n",
       "    </tr>\n",
       "    <tr>\n",
       "      <th>4</th>\n",
       "      <td>0.188066</td>\n",
       "    </tr>\n",
       "  </tbody>\n",
       "</table>\n",
       "</div>"
      ],
      "text/plain": [
       "          0\n",
       "0  0.112708\n",
       "1  0.090008\n",
       "2  0.089628\n",
       "3  0.160459\n",
       "4  0.188066"
      ]
     },
     "execution_count": 3,
     "metadata": {},
     "output_type": "execute_result"
    }
   ],
   "source": [
    "minmax = MinMaxScaler().fit(df.iloc[:, 4:5].astype('float32'))   #取收盘价为feature，并取log加以处理\n",
    "df_log = minmax.transform(df.iloc[:, 4:5].astype('float32')) \n",
    "df_log = pd.DataFrame(df_log)\n",
    "df_log.head()"
   ]
  },
  {
   "cell_type": "code",
   "execution_count": null,
   "id": "9cc3e1d6",
   "metadata": {},
   "outputs": [
    {
     "data": {
      "text/plain": [
       "((252, 7), (222, 1), (30, 1))"
      ]
     },
     "execution_count": 4,
     "metadata": {},
     "output_type": "execute_result"
    }
   ],
   "source": [
    "test_size = 30\n",
    "simulation_size = 10         #模拟总次数\n",
    "\n",
    "df_train = df_log.iloc[:-test_size]\n",
    "df_test = df_log.iloc[-test_size:]\n",
    "df.shape, df_train.shape, df_test.shape"
   ]
  },
  {
   "cell_type": "code",
   "execution_count": null,
   "id": "a6cf1f89",
   "metadata": {},
   "outputs": [],
   "source": [
    "#执行多头注意力机制的各个步骤，包括全连接变换、注意力权重计算、掩码处理、softmax归一化、加权求和和层归一化\n",
    "#注意力机制可以帮助模型在处理序列数据时关注不同位置的信息，并提高模型的性能和泛化能力\n",
    "def multihead_attn(queries, keys, q_masks, k_masks, future_binding, num_units, num_heads):\n",
    "    #参数初始化\n",
    "    T_q = tf.shape(queries)[1] \n",
    "    T_k = tf.shape(keys)[1]  \n",
    "    Q = tf.layers.dense(queries, num_units, name='Q')  \n",
    "    K_V = tf.layers.dense(keys, 2*num_units, name='K_V')\n",
    "    K, V = tf.split(K_V, 2, -1) \n",
    "    Q_ = tf.concat(tf.split(Q, num_heads, axis=2), axis=0)  \n",
    "    K_ = tf.concat(tf.split(K, num_heads, axis=2), axis=0)  \n",
    "    V_ = tf.concat(tf.split(V, num_heads, axis=2), axis=0) \n",
    "    align = tf.matmul(Q_, tf.transpose(K_, [0,2,1]))                \n",
    "    # 计算注意力权重\n",
    "    align = align / tf.sqrt(tf.cast(tf.shape(K_)[-1], tf.float32))  \n",
    "    # 归一化注意力权重\n",
    "\n",
    "    paddings = tf.fill(tf.shape(align), float('-inf'))  \n",
    "    # 创建填充值张量\n",
    "\n",
    "\n",
    "    key_masks = tf.tile(k_masks, [num_heads, 1])  \n",
    "    key_masks = tf.tile(tf.expand_dims(key_masks, 1), [1, T_q, 1]) \n",
    "    align = tf.where(tf.equal(key_masks, 0), paddings, align)  \n",
    "    # 对注意力权重进行掩码处理\n",
    "\n",
    "    if future_binding:\n",
    "        # 创建下三角矩阵,复制下三角矩阵以适应注意力权重,对注意力权重进行掩码处理\n",
    "        lower_tri = tf.linalg.LinearOperatorLowerTriangular(tf.ones([T_q, T_k])).to_dense() \n",
    "        masks = tf.tile(tf.expand_dims(lower_tri, 0), [tf.shape(align)[0], 1, 1])  \n",
    "        \n",
    "        align = tf.where(tf.equal(masks, 0), paddings, align)  \n",
    "        # \n",
    "    align = tf.nn.softmax(align)  \n",
    "    query_masks = tf.cast(q_masks, tf.float32) \n",
    "    # 获取查询的掩码\n",
    "    query_masks = tf.tile(query_masks, [num_heads, 1])  \n",
    "    query_masks = tf.tile(tf.expand_dims(query_masks, -1), [1, 1, T_k])  \n",
    "    # 复制查询的掩码以适应值张量的时间步数\n",
    "    align *= query_masks  \n",
    "    # 对注意力权重进行查询的掩码处理\n",
    "\n",
    "    outputs = tf.matmul(align, V_)  \n",
    "    outputs = tf.concat(tf.split(outputs, num_heads, axis=0), axis=2) \n",
    "    outputs = layer_norm(outputs+queries)  \n",
    "    return outputs \n",
    "\n",
    "def pointwise_feedforward(inputs, hidden_units, activation=None):\n",
    "    # 第一个全连接层和第二个全连接层的参数\n",
    "    dense1_params = {'units': 4*hidden_units, 'activation': activation}\n",
    "    dense2_params = {'units': hidden_units, 'activation': None}\n",
    "    # 第一个全连接层\n",
    "    outputs = tf.layers.dense(inputs, **dense1_params)\n",
    "    # 第二个全连接层\n",
    "    outputs = tf.layers.dense(outputs, **dense2_params)\n",
    "    outputs += inputs\n",
    "    outputs = layer_norm(outputs)\n",
    "    return outputs\n",
    "\n",
    "def learned_position_encoding(inputs, mask, embed_dim):\n",
    "    T = tf.shape(inputs)[1]\n",
    "    # 生成位置编码\n",
    "    positions = tf.range(T)\n",
    "    positions = tf.expand_dims(positions, 0)\n",
    "    positions = tf.tile(positions, [tf.shape(inputs)[0], 1])\n",
    "    outputs = embed_seq(positions, T, embed_dim, zero_pad=False, scale=False)\n",
    "    \n",
    "    # 掩码处理\n",
    "    outputs = tf.expand_dims(tf.to_float(mask), -1) * outputs\n",
    "    \n",
    "    return outputs\n",
    "\n",
    "\n",
    "def sinusoidal_position_encoding(inputs, mask, repr_dim):\n",
    "    T = tf.shape(inputs)[1]\n",
    "    \n",
    "    # 生成位置编码\n",
    "    positions = tf.reshape(tf.range(tf.cast(T, tf.float32)), [-1, 1])\n",
    "    i = tf.range(0, repr_dim, 2, dtype=tf.float32)\n",
    "    denom = tf.pow(10000.0, i / repr_dim)\n",
    "    enc = tf.concat([tf.sin(positions / denom), tf.cos(positions / denom)], axis=1)\n",
    "    enc = tf.expand_dims(enc, axis=0)\n",
    "    \n",
    "    # 掩码处理\n",
    "    outputs = tf.tile(enc, [tf.shape(inputs)[0], 1, 1]) * tf.expand_dims(tf.cast(mask, tf.float32), axis=-1)\n",
    "    \n",
    "    return outputs\n",
    "\n",
    "def label_smoothing(inputs, epsilon=0.1):  \n",
    "    #标签平滑化通过将输入与一个较小的常数epsilon除以类别数C相加，以减少模型对训练数据的过拟合。\n",
    "    #函数返回平滑化后的结果。标签平滑化可以帮助提高模型的泛化能力和鲁棒性。\n",
    "    # 获取输入张量的最后一个维度的大小\n",
    "    C = inputs.get_shape().as_list()[-1]\n",
    "    # 对输入进行标签平滑化处理\n",
    "    smoothed_inputs = ((1 - epsilon) * inputs) + (epsilon / C)\n",
    "    return smoothed_inputs\n",
    "\n",
    "def layer_norm(inputs, epsilon=1e-8):\n",
    "    # 计算输入张量的均值和方差\n",
    "    mean, variance = tf.nn.moments(inputs, [-1], keep_dims=True)\n",
    "    normalized = (inputs - mean) / (tf.sqrt(variance + epsilon))\n",
    "    # 获取输入张量的形状\n",
    "    params_shape = inputs.get_shape()[-1:]\n",
    "    gamma = tf.get_variable('gamma', params_shape, tf.float32, tf.ones_initializer())\n",
    "    beta = tf.get_variable('beta', params_shape, tf.float32, tf.zeros_initializer())\n",
    "    return  gamma * normalized + beta\n",
    "\n",
    "\n",
    "\n",
    "class Attention:\n",
    "    def __init__(self, size_layer, embedded_size, learning_rate, size, output_size,\n",
    "                 num_blocks=2,\n",
    "                 num_heads=8,\n",
    "                 min_freq=50):\n",
    "        self.X = tf.placeholder(tf.float32, (None, None, size))\n",
    "        self.Y = tf.placeholder(tf.float32, (None, output_size))\n",
    "        \n",
    "        # 对输入进行全连接层处理，并进行dropout\n",
    "        encoder_embedded = tf.layers.dense(self.X, embedded_size)\n",
    "        encoder_embedded = tf.nn.dropout(encoder_embedded, keep_prob=0.8)\n",
    "        \n",
    "        # 计算输入的平均值，并生成mask用于self-attention\n",
    "        x_mean = tf.reduce_mean(self.X, axis=2)\n",
    "        en_masks = tf.sign(x_mean)\n",
    "        encoder_embedded += sinusoidal_position_encoding(self.X, en_masks, embedded_size)\n",
    "        \n",
    "        # 多个attention模块的堆叠\n",
    "        for i in range(num_blocks):\n",
    "            with tf.variable_scope('encoder_self_attn_%d' % i, reuse=tf.AUTO_REUSE):\n",
    "                encoder_embedded = multihead_attn(queries=encoder_embedded,\n",
    "                                                  keys=encoder_embedded,\n",
    "                                                  q_masks=en_masks,\n",
    "                                                  k_masks=en_masks,\n",
    "                                                  future_binding=False,\n",
    "                                                  num_units=size_layer,\n",
    "                                                  num_heads=num_heads)\n",
    "\n",
    "            with tf.variable_scope('encoder_feedforward_%d' % i, reuse=tf.AUTO_REUSE):\n",
    "                # pointwise feedforward层\n",
    "                encoder_embedded = pointwise_feedforward(encoder_embedded,\n",
    "                                                         embedded_size,\n",
    "                                                         activation=tf.nn.relu)\n",
    "                \n",
    "        # 输出层，对最终结果进行全连接\n",
    "        self.logits = tf.layers.dense(encoder_embedded[-1], output_size)\n",
    "        \n",
    "        # 损失函数，计算预测值与真实值的均方误差\n",
    "        self.cost = tf.reduce_mean(tf.square(self.Y - self.logits))\n",
    "        \n",
    "        # 优化器，使用Adam优化器进行模型参数的更新\n",
    "        self.optimizer = tf.train.AdamOptimizer(learning_rate).minimize(self.cost)\n",
    "        \n",
    "def calculate_accuracy(real, predict):\n",
    "    # 将真实值和预测值转换为NumPy数组，并加1平滑\n",
    "    real = np.array(real) + 1\n",
    "    predict = np.array(predict) + 1\n",
    "    error = np.abs(real - predict) / real\n",
    "    percentage = 100 - np.sqrt(np.mean(np.square(error))) * 100\n",
    "    \n",
    "    return percentage\n",
    "\n",
    "def anchor(signal, weight):\n",
    "    buffer = []\n",
    "    # 平滑处理信号\n",
    "    for i in signal:\n",
    "        smoothed_val = buffer[-1] * weight + (1 - weight) * i if buffer else i\n",
    "        buffer.append(smoothed_val)\n",
    "    \n",
    "    return buffer\n",
    "def reset_and_initialize_session():\n",
    "    # 重置TensorFlow默认图\n",
    "    tf.reset_default_graph()\n",
    "    # 创建Attention模型实例\n",
    "    modelnn = Attention(size_layer, size_layer, learning_rate, df_log.shape[1], df_log.shape[1])\n",
    "    # 创建并初始化TensorFlow交互式会话\n",
    "    sess = tf.InteractiveSession()\n",
    "    sess.run(tf.global_variables_initializer())\n",
    "    return modelnn, sess\n",
    "\n",
    "def train_model(modelnn, sess, df_train):\n",
    "    pbar = tqdm(range(epoch), desc='train loop')\n",
    "    for _ in pbar:\n",
    "        total_loss, total_acc = [], []\n",
    "        # 分批次训练模型\n",
    "        for k in range(0, df_train.shape[0] - 1, timestamp):\n",
    "            index = min(k + timestamp, df_train.shape[0] - 1)\n",
    "            # 获取当前批次的输入和标签\n",
    "            batch_x = np.expand_dims(df_train.iloc[k: index, :].values, axis=0)\n",
    "            batch_y = df_train.iloc[k + 1: index + 1, :].values\n",
    "            # 运行模型的logits、optimizer和cost节点\n",
    "            logits, _, loss = sess.run([modelnn.logits, modelnn.optimizer, modelnn.cost],\n",
    "                                       feed_dict={modelnn.X: batch_x, modelnn.Y: batch_y})\n",
    "            # 记录损失和准确度\n",
    "            total_loss.append(loss)\n",
    "            total_acc.append(calculate_accuracy(batch_y[:, 0], logits[:, 0]))\n",
    "        # 更新进度条\n",
    "        pbar.set_postfix(cost=np.mean(total_loss), acc=np.mean(total_acc))\n",
    "\n",
    "def predict_future(modelnn, sess, df_train, date_ori):\n",
    "    # 预测未来数据\n",
    "    future_day = test_size\n",
    "    output_predict = np.zeros((df_train.shape[0] + future_day, df_train.shape[1]))\n",
    "    output_predict[0] = df_train.iloc[0]\n",
    "    upper_b = (df_train.shape[0] // timestamp) * timestamp\n",
    "\n",
    "    # 循环预测每个时间段\n",
    "    for k in range(0, upper_b, timestamp):\n",
    "        out_logits = sess.run(modelnn.logits,\n",
    "                              feed_dict={modelnn.X: np.expand_dims(df_train.iloc[k: k + timestamp], axis=0)})\n",
    "        output_predict[k + 1: k + timestamp + 1] = out_logits\n",
    "\n",
    "    # 处理剩余未预测的时间段\n",
    "    if upper_b != df_train.shape[0]:\n",
    "        out_logits = sess.run(modelnn.logits,\n",
    "                              feed_dict={modelnn.X: np.expand_dims(df_train.iloc[upper_b:], axis=0)})\n",
    "        output_predict[upper_b + 1: df_train.shape[0] + 1] = out_logits\n",
    "        future_day -= 1\n",
    "        date_ori.append(date_ori[-1] + timedelta(days=1))\n",
    "\n",
    "    # 继续预测未来多天\n",
    "    for i in range(future_day):\n",
    "        o = output_predict[-future_day - timestamp + i:-future_day + i]\n",
    "        out_logits = sess.run(modelnn.logits,\n",
    "                              feed_dict={modelnn.X: np.expand_dims(o, axis=0)})\n",
    "        output_predict[-future_day + i] = out_logits[-1]\n",
    "        date_ori.append(date_ori[-1] + timedelta(days=1))\n",
    "\n",
    "    return output_predict\n",
    "\n",
    "def inverse_transform_and_process(output_predict):\n",
    "    # 对预测结果进行逆归一化和处理\n",
    "    output_predict = minmax.inverse_transform(output_predict)\n",
    "    deep_future = anchor(output_predict[:, 0], 0.3)\n",
    "    return deep_future\n",
    "\n",
    "def forecast():\n",
    "    modelnn, sess = reset_and_initialize_session()\n",
    "    date_ori = pd.to_datetime(df.iloc[:, 0]).tolist()\n",
    "    train_model(modelnn, sess, df_train)\n",
    "    output_predict = predict_future(modelnn, sess, df_train, date_ori)\n",
    "    # 对预测结果进行逆归一化和处理\n",
    "    deep_future = inverse_transform_and_process(output_predict)\n",
    "    return deep_future[-test_size:]"
   ]
  },
  {
   "cell_type": "code",
   "execution_count": null,
   "id": "5cd91336",
   "metadata": {},
   "outputs": [],
   "source": [
    "num_layers = 1   #注意力层数\n",
    "size_layer = 128   #模型中每个注意力层的单元数或隐藏单元的数量\n",
    "dropout_rate = 0.8\n",
    "future_day = test_size\n",
    "learning_rate = 0.001\n",
    "timestamp = 5\n",
    "epoch = 300\n"
   ]
  },
  {
   "cell_type": "code",
   "execution_count": null,
   "id": "238146a7",
   "metadata": {},
   "outputs": [],
   "source": []
  },
  {
   "cell_type": "code",
   "execution_count": null,
   "id": "f54e1204",
   "metadata": {},
   "outputs": [
    {
     "name": "stdout",
     "output_type": "stream",
     "text": [
      "WARNING:tensorflow:From C:\\Users\\admin\\AppData\\Local\\Temp/ipykernel_31056/2075243172.py:2: The name tf.disable_eager_execution is deprecated. Please use tf.compat.v1.disable_eager_execution instead.\n",
      "\n",
      "simulation times1\n",
      "WARNING:tensorflow:From C:\\Users\\admin\\anaconda3\\lib\\site-packages\\keras\\src\\utils\\version_utils.py:76: The name tf.executing_eagerly_outside_functions is deprecated. Please use tf.compat.v1.executing_eagerly_outside_functions instead.\n",
      "\n",
      "WARNING:tensorflow:From C:\\Users\\admin\\anaconda3\\lib\\site-packages\\tensorflow\\python\\util\\dispatch.py:1260: calling dropout (from tensorflow.python.ops.nn_ops) with keep_prob is deprecated and will be removed in a future version.\n",
      "Instructions for updating:\n",
      "Please use `rate` instead of `keep_prob`. Rate should be set to `rate = 1 - keep_prob`.\n"
     ]
    },
    {
     "name": "stderr",
     "output_type": "stream",
     "text": [
      "C:\\Users\\admin\\AppData\\Local\\Temp/ipykernel_31056/3452388970.py:119: UserWarning: `tf.layers.dense` is deprecated and will be removed in a future version. Please use `tf.keras.layers.Dense` instead.\n",
      "  encoder_embedded = tf.layers.dense(self.X, embedded_size)\n",
      "C:\\Users\\admin\\AppData\\Local\\Temp/ipykernel_31056/3452388970.py:7: UserWarning: `tf.layers.dense` is deprecated and will be removed in a future version. Please use `tf.keras.layers.Dense` instead.\n",
      "  Q = tf.layers.dense(queries, num_units, name='Q')\n",
      "C:\\Users\\admin\\AppData\\Local\\Temp/ipykernel_31056/3452388970.py:8: UserWarning: `tf.layers.dense` is deprecated and will be removed in a future version. Please use `tf.keras.layers.Dense` instead.\n",
      "  K_V = tf.layers.dense(keys, 2*num_units, name='K_V')\n",
      "C:\\Users\\admin\\AppData\\Local\\Temp/ipykernel_31056/3452388970.py:53: UserWarning: `tf.layers.dense` is deprecated and will be removed in a future version. Please use `tf.keras.layers.Dense` instead.\n",
      "  outputs = tf.layers.dense(inputs, **dense1_params)\n",
      "C:\\Users\\admin\\AppData\\Local\\Temp/ipykernel_31056/3452388970.py:55: UserWarning: `tf.layers.dense` is deprecated and will be removed in a future version. Please use `tf.keras.layers.Dense` instead.\n",
      "  outputs = tf.layers.dense(outputs, **dense2_params)\n",
      "C:\\Users\\admin\\AppData\\Local\\Temp/ipykernel_31056/3452388970.py:145: UserWarning: `tf.layers.dense` is deprecated and will be removed in a future version. Please use `tf.keras.layers.Dense` instead.\n",
      "  self.logits = tf.layers.dense(encoder_embedded[-1], output_size)\n"
     ]
    },
    {
     "name": "stdout",
     "output_type": "stream",
     "text": [
      "WARNING:tensorflow:From C:\\Users\\admin\\AppData\\Local\\Temp/ipykernel_31056/3452388970.py:151: The name tf.train.AdamOptimizer is deprecated. Please use tf.compat.v1.train.AdamOptimizer instead.\n",
      "\n"
     ]
    },
    {
     "name": "stderr",
     "output_type": "stream",
     "text": [
      "train loop: 100%|██████████| 300/300 [00:36<00:00,  8.12it/s, acc=97.6, cost=0.00148] \n",
      "C:\\Users\\admin\\AppData\\Local\\Temp/ipykernel_31056/3452388970.py:119: UserWarning: `tf.layers.dense` is deprecated and will be removed in a future version. Please use `tf.keras.layers.Dense` instead.\n",
      "  encoder_embedded = tf.layers.dense(self.X, embedded_size)\n",
      "C:\\Users\\admin\\AppData\\Local\\Temp/ipykernel_31056/3452388970.py:7: UserWarning: `tf.layers.dense` is deprecated and will be removed in a future version. Please use `tf.keras.layers.Dense` instead.\n",
      "  Q = tf.layers.dense(queries, num_units, name='Q')\n",
      "C:\\Users\\admin\\AppData\\Local\\Temp/ipykernel_31056/3452388970.py:8: UserWarning: `tf.layers.dense` is deprecated and will be removed in a future version. Please use `tf.keras.layers.Dense` instead.\n",
      "  K_V = tf.layers.dense(keys, 2*num_units, name='K_V')\n",
      "C:\\Users\\admin\\AppData\\Local\\Temp/ipykernel_31056/3452388970.py:53: UserWarning: `tf.layers.dense` is deprecated and will be removed in a future version. Please use `tf.keras.layers.Dense` instead.\n",
      "  outputs = tf.layers.dense(inputs, **dense1_params)\n"
     ]
    },
    {
     "name": "stdout",
     "output_type": "stream",
     "text": [
      "simulation times2\n"
     ]
    },
    {
     "name": "stderr",
     "output_type": "stream",
     "text": [
      "C:\\Users\\admin\\AppData\\Local\\Temp/ipykernel_31056/3452388970.py:55: UserWarning: `tf.layers.dense` is deprecated and will be removed in a future version. Please use `tf.keras.layers.Dense` instead.\n",
      "  outputs = tf.layers.dense(outputs, **dense2_params)\n",
      "C:\\Users\\admin\\AppData\\Local\\Temp/ipykernel_31056/3452388970.py:145: UserWarning: `tf.layers.dense` is deprecated and will be removed in a future version. Please use `tf.keras.layers.Dense` instead.\n",
      "  self.logits = tf.layers.dense(encoder_embedded[-1], output_size)\n",
      "C:\\Users\\admin\\anaconda3\\lib\\site-packages\\tensorflow\\python\\client\\session.py:1793: UserWarning: An interactive session is already active. This can cause out-of-memory errors in some cases. You must explicitly call `InteractiveSession.close()` to release resources held by the other session(s).\n",
      "  warnings.warn('An interactive session is already active. This can '\n",
      "train loop: 100%|██████████| 300/300 [00:36<00:00,  8.14it/s, acc=96.6, cost=0.00338] \n",
      "C:\\Users\\admin\\AppData\\Local\\Temp/ipykernel_31056/3452388970.py:119: UserWarning: `tf.layers.dense` is deprecated and will be removed in a future version. Please use `tf.keras.layers.Dense` instead.\n",
      "  encoder_embedded = tf.layers.dense(self.X, embedded_size)\n",
      "C:\\Users\\admin\\AppData\\Local\\Temp/ipykernel_31056/3452388970.py:7: UserWarning: `tf.layers.dense` is deprecated and will be removed in a future version. Please use `tf.keras.layers.Dense` instead.\n",
      "  Q = tf.layers.dense(queries, num_units, name='Q')\n",
      "C:\\Users\\admin\\AppData\\Local\\Temp/ipykernel_31056/3452388970.py:8: UserWarning: `tf.layers.dense` is deprecated and will be removed in a future version. Please use `tf.keras.layers.Dense` instead.\n",
      "  K_V = tf.layers.dense(keys, 2*num_units, name='K_V')\n",
      "C:\\Users\\admin\\AppData\\Local\\Temp/ipykernel_31056/3452388970.py:53: UserWarning: `tf.layers.dense` is deprecated and will be removed in a future version. Please use `tf.keras.layers.Dense` instead.\n",
      "  outputs = tf.layers.dense(inputs, **dense1_params)\n"
     ]
    },
    {
     "name": "stdout",
     "output_type": "stream",
     "text": [
      "simulation times3\n"
     ]
    },
    {
     "name": "stderr",
     "output_type": "stream",
     "text": [
      "C:\\Users\\admin\\AppData\\Local\\Temp/ipykernel_31056/3452388970.py:55: UserWarning: `tf.layers.dense` is deprecated and will be removed in a future version. Please use `tf.keras.layers.Dense` instead.\n",
      "  outputs = tf.layers.dense(outputs, **dense2_params)\n",
      "C:\\Users\\admin\\AppData\\Local\\Temp/ipykernel_31056/3452388970.py:145: UserWarning: `tf.layers.dense` is deprecated and will be removed in a future version. Please use `tf.keras.layers.Dense` instead.\n",
      "  self.logits = tf.layers.dense(encoder_embedded[-1], output_size)\n",
      "C:\\Users\\admin\\anaconda3\\lib\\site-packages\\tensorflow\\python\\client\\session.py:1793: UserWarning: An interactive session is already active. This can cause out-of-memory errors in some cases. You must explicitly call `InteractiveSession.close()` to release resources held by the other session(s).\n",
      "  warnings.warn('An interactive session is already active. This can '\n",
      "train loop: 100%|██████████| 300/300 [00:37<00:00,  8.04it/s, acc=97.4, cost=0.00231] \n",
      "C:\\Users\\admin\\AppData\\Local\\Temp/ipykernel_31056/3452388970.py:119: UserWarning: `tf.layers.dense` is deprecated and will be removed in a future version. Please use `tf.keras.layers.Dense` instead.\n",
      "  encoder_embedded = tf.layers.dense(self.X, embedded_size)\n",
      "C:\\Users\\admin\\AppData\\Local\\Temp/ipykernel_31056/3452388970.py:7: UserWarning: `tf.layers.dense` is deprecated and will be removed in a future version. Please use `tf.keras.layers.Dense` instead.\n",
      "  Q = tf.layers.dense(queries, num_units, name='Q')\n",
      "C:\\Users\\admin\\AppData\\Local\\Temp/ipykernel_31056/3452388970.py:8: UserWarning: `tf.layers.dense` is deprecated and will be removed in a future version. Please use `tf.keras.layers.Dense` instead.\n",
      "  K_V = tf.layers.dense(keys, 2*num_units, name='K_V')\n",
      "C:\\Users\\admin\\AppData\\Local\\Temp/ipykernel_31056/3452388970.py:53: UserWarning: `tf.layers.dense` is deprecated and will be removed in a future version. Please use `tf.keras.layers.Dense` instead.\n",
      "  outputs = tf.layers.dense(inputs, **dense1_params)\n"
     ]
    },
    {
     "name": "stdout",
     "output_type": "stream",
     "text": [
      "simulation times4\n"
     ]
    },
    {
     "name": "stderr",
     "output_type": "stream",
     "text": [
      "C:\\Users\\admin\\AppData\\Local\\Temp/ipykernel_31056/3452388970.py:55: UserWarning: `tf.layers.dense` is deprecated and will be removed in a future version. Please use `tf.keras.layers.Dense` instead.\n",
      "  outputs = tf.layers.dense(outputs, **dense2_params)\n",
      "C:\\Users\\admin\\AppData\\Local\\Temp/ipykernel_31056/3452388970.py:145: UserWarning: `tf.layers.dense` is deprecated and will be removed in a future version. Please use `tf.keras.layers.Dense` instead.\n",
      "  self.logits = tf.layers.dense(encoder_embedded[-1], output_size)\n",
      "C:\\Users\\admin\\anaconda3\\lib\\site-packages\\tensorflow\\python\\client\\session.py:1793: UserWarning: An interactive session is already active. This can cause out-of-memory errors in some cases. You must explicitly call `InteractiveSession.close()` to release resources held by the other session(s).\n",
      "  warnings.warn('An interactive session is already active. This can '\n",
      "train loop: 100%|██████████| 300/300 [00:37<00:00,  8.04it/s, acc=97.6, cost=0.00187]\n",
      "C:\\Users\\admin\\AppData\\Local\\Temp/ipykernel_31056/3452388970.py:119: UserWarning: `tf.layers.dense` is deprecated and will be removed in a future version. Please use `tf.keras.layers.Dense` instead.\n",
      "  encoder_embedded = tf.layers.dense(self.X, embedded_size)\n",
      "C:\\Users\\admin\\AppData\\Local\\Temp/ipykernel_31056/3452388970.py:7: UserWarning: `tf.layers.dense` is deprecated and will be removed in a future version. Please use `tf.keras.layers.Dense` instead.\n",
      "  Q = tf.layers.dense(queries, num_units, name='Q')\n",
      "C:\\Users\\admin\\AppData\\Local\\Temp/ipykernel_31056/3452388970.py:8: UserWarning: `tf.layers.dense` is deprecated and will be removed in a future version. Please use `tf.keras.layers.Dense` instead.\n",
      "  K_V = tf.layers.dense(keys, 2*num_units, name='K_V')\n",
      "C:\\Users\\admin\\AppData\\Local\\Temp/ipykernel_31056/3452388970.py:53: UserWarning: `tf.layers.dense` is deprecated and will be removed in a future version. Please use `tf.keras.layers.Dense` instead.\n",
      "  outputs = tf.layers.dense(inputs, **dense1_params)\n"
     ]
    },
    {
     "name": "stdout",
     "output_type": "stream",
     "text": [
      "simulation times5\n"
     ]
    },
    {
     "name": "stderr",
     "output_type": "stream",
     "text": [
      "C:\\Users\\admin\\AppData\\Local\\Temp/ipykernel_31056/3452388970.py:55: UserWarning: `tf.layers.dense` is deprecated and will be removed in a future version. Please use `tf.keras.layers.Dense` instead.\n",
      "  outputs = tf.layers.dense(outputs, **dense2_params)\n",
      "C:\\Users\\admin\\AppData\\Local\\Temp/ipykernel_31056/3452388970.py:145: UserWarning: `tf.layers.dense` is deprecated and will be removed in a future version. Please use `tf.keras.layers.Dense` instead.\n",
      "  self.logits = tf.layers.dense(encoder_embedded[-1], output_size)\n",
      "C:\\Users\\admin\\anaconda3\\lib\\site-packages\\tensorflow\\python\\client\\session.py:1793: UserWarning: An interactive session is already active. This can cause out-of-memory errors in some cases. You must explicitly call `InteractiveSession.close()` to release resources held by the other session(s).\n",
      "  warnings.warn('An interactive session is already active. This can '\n",
      "train loop: 100%|██████████| 300/300 [00:37<00:00,  8.02it/s, acc=95.7, cost=0.00612] \n",
      "C:\\Users\\admin\\AppData\\Local\\Temp/ipykernel_31056/3452388970.py:119: UserWarning: `tf.layers.dense` is deprecated and will be removed in a future version. Please use `tf.keras.layers.Dense` instead.\n",
      "  encoder_embedded = tf.layers.dense(self.X, embedded_size)\n",
      "C:\\Users\\admin\\AppData\\Local\\Temp/ipykernel_31056/3452388970.py:7: UserWarning: `tf.layers.dense` is deprecated and will be removed in a future version. Please use `tf.keras.layers.Dense` instead.\n",
      "  Q = tf.layers.dense(queries, num_units, name='Q')\n",
      "C:\\Users\\admin\\AppData\\Local\\Temp/ipykernel_31056/3452388970.py:8: UserWarning: `tf.layers.dense` is deprecated and will be removed in a future version. Please use `tf.keras.layers.Dense` instead.\n",
      "  K_V = tf.layers.dense(keys, 2*num_units, name='K_V')\n",
      "C:\\Users\\admin\\AppData\\Local\\Temp/ipykernel_31056/3452388970.py:53: UserWarning: `tf.layers.dense` is deprecated and will be removed in a future version. Please use `tf.keras.layers.Dense` instead.\n",
      "  outputs = tf.layers.dense(inputs, **dense1_params)\n"
     ]
    },
    {
     "name": "stdout",
     "output_type": "stream",
     "text": [
      "simulation times6\n"
     ]
    },
    {
     "name": "stderr",
     "output_type": "stream",
     "text": [
      "C:\\Users\\admin\\AppData\\Local\\Temp/ipykernel_31056/3452388970.py:55: UserWarning: `tf.layers.dense` is deprecated and will be removed in a future version. Please use `tf.keras.layers.Dense` instead.\n",
      "  outputs = tf.layers.dense(outputs, **dense2_params)\n",
      "C:\\Users\\admin\\AppData\\Local\\Temp/ipykernel_31056/3452388970.py:145: UserWarning: `tf.layers.dense` is deprecated and will be removed in a future version. Please use `tf.keras.layers.Dense` instead.\n",
      "  self.logits = tf.layers.dense(encoder_embedded[-1], output_size)\n",
      "C:\\Users\\admin\\anaconda3\\lib\\site-packages\\tensorflow\\python\\client\\session.py:1793: UserWarning: An interactive session is already active. This can cause out-of-memory errors in some cases. You must explicitly call `InteractiveSession.close()` to release resources held by the other session(s).\n",
      "  warnings.warn('An interactive session is already active. This can '\n",
      "train loop: 100%|██████████| 300/300 [00:37<00:00,  8.07it/s, acc=98.2, cost=0.000797]\n",
      "C:\\Users\\admin\\AppData\\Local\\Temp/ipykernel_31056/3452388970.py:119: UserWarning: `tf.layers.dense` is deprecated and will be removed in a future version. Please use `tf.keras.layers.Dense` instead.\n",
      "  encoder_embedded = tf.layers.dense(self.X, embedded_size)\n",
      "C:\\Users\\admin\\AppData\\Local\\Temp/ipykernel_31056/3452388970.py:7: UserWarning: `tf.layers.dense` is deprecated and will be removed in a future version. Please use `tf.keras.layers.Dense` instead.\n",
      "  Q = tf.layers.dense(queries, num_units, name='Q')\n",
      "C:\\Users\\admin\\AppData\\Local\\Temp/ipykernel_31056/3452388970.py:8: UserWarning: `tf.layers.dense` is deprecated and will be removed in a future version. Please use `tf.keras.layers.Dense` instead.\n",
      "  K_V = tf.layers.dense(keys, 2*num_units, name='K_V')\n",
      "C:\\Users\\admin\\AppData\\Local\\Temp/ipykernel_31056/3452388970.py:53: UserWarning: `tf.layers.dense` is deprecated and will be removed in a future version. Please use `tf.keras.layers.Dense` instead.\n",
      "  outputs = tf.layers.dense(inputs, **dense1_params)\n"
     ]
    },
    {
     "name": "stdout",
     "output_type": "stream",
     "text": [
      "simulation times7\n"
     ]
    },
    {
     "name": "stderr",
     "output_type": "stream",
     "text": [
      "C:\\Users\\admin\\AppData\\Local\\Temp/ipykernel_31056/3452388970.py:55: UserWarning: `tf.layers.dense` is deprecated and will be removed in a future version. Please use `tf.keras.layers.Dense` instead.\n",
      "  outputs = tf.layers.dense(outputs, **dense2_params)\n",
      "C:\\Users\\admin\\AppData\\Local\\Temp/ipykernel_31056/3452388970.py:145: UserWarning: `tf.layers.dense` is deprecated and will be removed in a future version. Please use `tf.keras.layers.Dense` instead.\n",
      "  self.logits = tf.layers.dense(encoder_embedded[-1], output_size)\n",
      "C:\\Users\\admin\\anaconda3\\lib\\site-packages\\tensorflow\\python\\client\\session.py:1793: UserWarning: An interactive session is already active. This can cause out-of-memory errors in some cases. You must explicitly call `InteractiveSession.close()` to release resources held by the other session(s).\n",
      "  warnings.warn('An interactive session is already active. This can '\n",
      "train loop: 100%|██████████| 300/300 [00:37<00:00,  7.96it/s, acc=97.9, cost=0.00143] \n",
      "C:\\Users\\admin\\AppData\\Local\\Temp/ipykernel_31056/3452388970.py:119: UserWarning: `tf.layers.dense` is deprecated and will be removed in a future version. Please use `tf.keras.layers.Dense` instead.\n",
      "  encoder_embedded = tf.layers.dense(self.X, embedded_size)\n",
      "C:\\Users\\admin\\AppData\\Local\\Temp/ipykernel_31056/3452388970.py:7: UserWarning: `tf.layers.dense` is deprecated and will be removed in a future version. Please use `tf.keras.layers.Dense` instead.\n",
      "  Q = tf.layers.dense(queries, num_units, name='Q')\n",
      "C:\\Users\\admin\\AppData\\Local\\Temp/ipykernel_31056/3452388970.py:8: UserWarning: `tf.layers.dense` is deprecated and will be removed in a future version. Please use `tf.keras.layers.Dense` instead.\n",
      "  K_V = tf.layers.dense(keys, 2*num_units, name='K_V')\n",
      "C:\\Users\\admin\\AppData\\Local\\Temp/ipykernel_31056/3452388970.py:53: UserWarning: `tf.layers.dense` is deprecated and will be removed in a future version. Please use `tf.keras.layers.Dense` instead.\n",
      "  outputs = tf.layers.dense(inputs, **dense1_params)\n",
      "C:\\Users\\admin\\AppData\\Local\\Temp/ipykernel_31056/3452388970.py:55: UserWarning: `tf.layers.dense` is deprecated and will be removed in a future version. Please use `tf.keras.layers.Dense` instead.\n",
      "  outputs = tf.layers.dense(outputs, **dense2_params)\n"
     ]
    },
    {
     "name": "stdout",
     "output_type": "stream",
     "text": [
      "simulation times8\n"
     ]
    },
    {
     "name": "stderr",
     "output_type": "stream",
     "text": [
      "C:\\Users\\admin\\AppData\\Local\\Temp/ipykernel_31056/3452388970.py:145: UserWarning: `tf.layers.dense` is deprecated and will be removed in a future version. Please use `tf.keras.layers.Dense` instead.\n",
      "  self.logits = tf.layers.dense(encoder_embedded[-1], output_size)\n",
      "C:\\Users\\admin\\anaconda3\\lib\\site-packages\\tensorflow\\python\\client\\session.py:1793: UserWarning: An interactive session is already active. This can cause out-of-memory errors in some cases. You must explicitly call `InteractiveSession.close()` to release resources held by the other session(s).\n",
      "  warnings.warn('An interactive session is already active. This can '\n",
      "train loop: 100%|██████████| 300/300 [00:37<00:00,  7.97it/s, acc=97.8, cost=0.00152] \n",
      "C:\\Users\\admin\\AppData\\Local\\Temp/ipykernel_31056/3452388970.py:119: UserWarning: `tf.layers.dense` is deprecated and will be removed in a future version. Please use `tf.keras.layers.Dense` instead.\n",
      "  encoder_embedded = tf.layers.dense(self.X, embedded_size)\n",
      "C:\\Users\\admin\\AppData\\Local\\Temp/ipykernel_31056/3452388970.py:7: UserWarning: `tf.layers.dense` is deprecated and will be removed in a future version. Please use `tf.keras.layers.Dense` instead.\n",
      "  Q = tf.layers.dense(queries, num_units, name='Q')\n",
      "C:\\Users\\admin\\AppData\\Local\\Temp/ipykernel_31056/3452388970.py:8: UserWarning: `tf.layers.dense` is deprecated and will be removed in a future version. Please use `tf.keras.layers.Dense` instead.\n",
      "  K_V = tf.layers.dense(keys, 2*num_units, name='K_V')\n",
      "C:\\Users\\admin\\AppData\\Local\\Temp/ipykernel_31056/3452388970.py:53: UserWarning: `tf.layers.dense` is deprecated and will be removed in a future version. Please use `tf.keras.layers.Dense` instead.\n",
      "  outputs = tf.layers.dense(inputs, **dense1_params)\n"
     ]
    },
    {
     "name": "stdout",
     "output_type": "stream",
     "text": [
      "simulation times9\n"
     ]
    },
    {
     "name": "stderr",
     "output_type": "stream",
     "text": [
      "C:\\Users\\admin\\AppData\\Local\\Temp/ipykernel_31056/3452388970.py:55: UserWarning: `tf.layers.dense` is deprecated and will be removed in a future version. Please use `tf.keras.layers.Dense` instead.\n",
      "  outputs = tf.layers.dense(outputs, **dense2_params)\n",
      "C:\\Users\\admin\\AppData\\Local\\Temp/ipykernel_31056/3452388970.py:145: UserWarning: `tf.layers.dense` is deprecated and will be removed in a future version. Please use `tf.keras.layers.Dense` instead.\n",
      "  self.logits = tf.layers.dense(encoder_embedded[-1], output_size)\n",
      "C:\\Users\\admin\\anaconda3\\lib\\site-packages\\tensorflow\\python\\client\\session.py:1793: UserWarning: An interactive session is already active. This can cause out-of-memory errors in some cases. You must explicitly call `InteractiveSession.close()` to release resources held by the other session(s).\n",
      "  warnings.warn('An interactive session is already active. This can '\n",
      "train loop: 100%|██████████| 300/300 [00:37<00:00,  8.03it/s, acc=98.1, cost=0.000954]\n",
      "C:\\Users\\admin\\AppData\\Local\\Temp/ipykernel_31056/3452388970.py:119: UserWarning: `tf.layers.dense` is deprecated and will be removed in a future version. Please use `tf.keras.layers.Dense` instead.\n",
      "  encoder_embedded = tf.layers.dense(self.X, embedded_size)\n",
      "C:\\Users\\admin\\AppData\\Local\\Temp/ipykernel_31056/3452388970.py:7: UserWarning: `tf.layers.dense` is deprecated and will be removed in a future version. Please use `tf.keras.layers.Dense` instead.\n",
      "  Q = tf.layers.dense(queries, num_units, name='Q')\n",
      "C:\\Users\\admin\\AppData\\Local\\Temp/ipykernel_31056/3452388970.py:8: UserWarning: `tf.layers.dense` is deprecated and will be removed in a future version. Please use `tf.keras.layers.Dense` instead.\n",
      "  K_V = tf.layers.dense(keys, 2*num_units, name='K_V')\n"
     ]
    },
    {
     "name": "stdout",
     "output_type": "stream",
     "text": [
      "simulation times10\n"
     ]
    },
    {
     "name": "stderr",
     "output_type": "stream",
     "text": [
      "C:\\Users\\admin\\AppData\\Local\\Temp/ipykernel_31056/3452388970.py:53: UserWarning: `tf.layers.dense` is deprecated and will be removed in a future version. Please use `tf.keras.layers.Dense` instead.\n",
      "  outputs = tf.layers.dense(inputs, **dense1_params)\n",
      "C:\\Users\\admin\\AppData\\Local\\Temp/ipykernel_31056/3452388970.py:55: UserWarning: `tf.layers.dense` is deprecated and will be removed in a future version. Please use `tf.keras.layers.Dense` instead.\n",
      "  outputs = tf.layers.dense(outputs, **dense2_params)\n",
      "C:\\Users\\admin\\AppData\\Local\\Temp/ipykernel_31056/3452388970.py:145: UserWarning: `tf.layers.dense` is deprecated and will be removed in a future version. Please use `tf.keras.layers.Dense` instead.\n",
      "  self.logits = tf.layers.dense(encoder_embedded[-1], output_size)\n",
      "C:\\Users\\admin\\anaconda3\\lib\\site-packages\\tensorflow\\python\\client\\session.py:1793: UserWarning: An interactive session is already active. This can cause out-of-memory errors in some cases. You must explicitly call `InteractiveSession.close()` to release resources held by the other session(s).\n",
      "  warnings.warn('An interactive session is already active. This can '\n",
      "train loop: 100%|██████████| 300/300 [00:38<00:00,  7.83it/s, acc=96.3, cost=0.00476] \n"
     ]
    }
   ],
   "source": [
    "import tensorflow.compat.v1 as tf\n",
    "tf.compat.v1.disable_eager_execution()\n",
    "tf.reset_default_graph()\n",
    "results = []\n",
    "for i in range(simulation_size):\n",
    "    print('simulation times%d'%(i + 1))\n",
    "    results.append(forecast())"
   ]
  },
  {
   "cell_type": "code",
   "execution_count": null,
   "id": "5b11be2a",
   "metadata": {},
   "outputs": [
    {
     "data": {
      "text/plain": [
       "<Figure size 1080x216 with 0 Axes>"
      ]
     },
     "execution_count": 12,
     "metadata": {},
     "output_type": "execute_result"
    },
    {
     "data": {
      "image/png": "[encoded data removed]",
      "text/plain": [
       "<Figure size 1080x360 with 1 Axes>"
      ]
     },
     "metadata": {},
     "output_type": "display_data"
    },
    {
     "data": {
      "text/plain": [
       "<Figure size 1080x216 with 0 Axes>"
      ]
     },
     "metadata": {},
     "output_type": "display_data"
    }
   ],
   "source": [
    "import matplotlib.pyplot as plt\n",
    "import numpy as np\n",
    "\n",
    "accuracies = [calculate_accuracy(df['Close'].iloc[-test_size:].values, r) for r in results]\n",
    "average_accuracy = np.mean(accuracies)\n",
    "\n",
    "plt.figure(figsize=(15, 3))\n",
    "plt.gca().set_facecolor('white')  # 设置整个图表的背景为白色\n",
    "\n",
    "# 绘制预测曲线\n",
    "for no, r in enumerate(results):\n",
    "    plt.plot(r, label=f'Forecast {no + 1}')\n",
    "\n",
    "# 绘制真实走势曲线\n",
    "plt.plot(df['Close'].iloc[-test_size:].values, label='True Trend', c='black')\n",
    "\n",
    "plt.title(f'Stock Price Forecast With Attention\\nAverage Accuracy: {average_accuracy:.4f}', fontsize=16)\n",
    "plt.xlabel('Date', fontsize=14)\n",
    "plt.ylabel('Stock Price', fontsize=14)\n",
    "plt.legend(loc='best',ncol=4)\n",
    "plt.show()\n"
   ]
  },
  {
   "cell_type": "code",
   "execution_count": null,
   "id": "6a2e59db",
   "metadata": {},
   "outputs": [],
   "source": []
  },
  {
   "cell_type": "code",
   "execution_count": null,
   "id": "569fcffb",
   "metadata": {},
   "outputs": [],
   "source": []
  },
  {
   "cell_type": "code",
   "execution_count": null,
   "id": "94f576dd",
   "metadata": {},
   "outputs": [],
   "source": []
  }
 ],
 "metadata": {
  "kernelspec": {
   "display_name": "Python 3 (ipykernel)",
   "language": "python",
   "name": "python3"
  },
  "language_info": {
   "codemirror_mode": {
    "name": "ipython",
    "version": 3
   },
   "file_extension": ".py",
   "mimetype": "text/x-python",
   "name": "python",
   "nbconvert_exporter": "python",
   "pygments_lexer": "ipython3",
   "version": "3.9.7"
  }
 },
 "nbformat": 4,
 "nbformat_minor": 5
}
